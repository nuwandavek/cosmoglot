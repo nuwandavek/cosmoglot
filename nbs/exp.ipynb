{
 "cells": [
  {
   "cell_type": "code",
   "execution_count": 6,
   "metadata": {},
   "outputs": [],
   "source": [
    "import pickle as pkl\n",
    "import pandas as pd\n",
    "\n",
    "from utils import gsm_qa\n"
   ]
  },
  {
   "cell_type": "code",
   "execution_count": 7,
   "metadata": {},
   "outputs": [
    {
     "data": {
      "text/plain": [
       "[{'question': 'नाटालिया अप्रैलमासे ४८ सखासु क्लिपन् विक्र्षीत्, तथा मये मासे अर्धशः इतरे क्लिपन् विक्र्षीत्। अप्रैल-मये मासे कुलकति क्लिपन् विक्र्षीत्?',\n",
       "  'reasoning': 'माये मासे नाताल्या २४ क्लिप विक्र्षीति। अप्रेलमासे च माये मासे च नाताल्या ७२ क्लिप विक्र्षीति।',\n",
       "  'answer': '72'},\n",
       " {'question': 'वेङ्गः प्रतिघण्टिकां १२ डॉलरकान् बालरक्षणार्थः प्राप्नोति। अघ्रे काले सः केवलं ५० मिनिटानि बालरक्षणं कृतवान्। सः किति आम् धनं प्राप्तवान्?',\n",
       "  'reasoning': 'वेङ्गः प्रतिमिनुते 12/60 = 0.2 डोलर् आम्नाति। 50 मिनिटानि कार्य कृत्वा, सा 0.2 x 50 = 10 डोलर् आप्नोति।',\n",
       "  'answer': '10'},\n",
       " {'question': 'बेटी नवं पाणिपात्रं क्रयितुं धनं संचयति, अस्य किं मूल्यं १०० डॉलर अस्ति। बेटी केवलं आवश्यकधनस्य अर्धं करोति। तस्याः मातापिता तस्मै १५ डॉलरं प्रयच्छन्ति, तस्याः पितृमहः मातापितृयोः द्विगुणितं प्रयच्छन्ति। पाणिपात्रं क्रयितुं बेटी किनापि धनं अधिकं आवश्यकता अस्ति?',\n",
       "  'reasoning': 'आदिमस्मिन्, बेट्टी केवलं १०० / २ = ५० डोलर्णि आसीत्। बेट्टीस्य पितृमहौ तस्याः १५ * २ = ३० डोलर्णि दत्तवन्। अतः, बेट्टये १०० - ५० - ३० - १५ = ५ डोलर्णि अधिकं देयम्।',\n",
       "  'answer': '5'},\n",
       " {'question': 'जूलिः 120-पृष्ठिकां पुस्तकं पठति। अग्रे काले सः 12 पृष्ठानि अपठत्, आजं च सः अग्रे काले अपठितपृष्ठानां द्विगुणानि पृष्ठानि अपठत्। यदि सः श्वः शेषपृष्ठानां अर्धं पठितुं इच्छति, ततोऽसौ किती पृष्ठानि पठितुं शक्नोति?',\n",
       "  'reasoning': 'मैला आज १२ x २ = <<१२*२=२४>> २४ पन्नानि अपठत्।\\nततोऽसौ कल्यः १२ + २४ = <<१२+२४=३६>> ३६ पन्नानि अपठत्।\\nअपठनीयशेषपन्नानि १२0 - ३६ = <<१२०-३६=८४>> ८४ सन्ति।\\nयदि सः श्वः शेषपन्नानां अर्धं पठितुम् इच्छति, तर्हि सः ८४/२ = <<८४/२=४२>> ४२ पन्नानि पठितुम् अर्हः।',\n",
       "  'answer': '42'},\n",
       " {'question': 'जेम्सः सप्ताहं द्विवारं द्वयमित्रयो लिम्पति त्रिपृष्ठिकां पत्रम्। वर्षस्य पृष्ठसंख्या किन्?',\n",
       "  'reasoning': 'सः प्रत्येकं मित्रं 3*2=<<3*2=6>>6 पृष्ठानि सप्ताहं लिखति।\\nततः सः 6*2=<<6*2=12>>12 पृष्ठानि प्रत्येकं सप्ताहं लिखति।\\nतस्य अर्थः सः 12*52=<<12*52=624>>624 पृष्ठानि वर्षे लिखति।',\n",
       "  'answer': '624'}]"
      ]
     },
     "execution_count": 7,
     "metadata": {},
     "output_type": "execute_result"
    }
   ],
   "source": [
    "language = 'sanskrit'\n",
    "\n",
    "df = pkl.load(open(f'data/processed/gsm8k/{language}/test.pkl', 'rb'))\n",
    "\n",
    "examples = df[['question', 'reasoning', 'answer']].head(5).to_dict(orient='records')\n",
    "examples\n"
   ]
  },
  {
   "cell_type": "code",
   "execution_count": 8,
   "metadata": {},
   "outputs": [
    {
     "name": "stdout",
     "output_type": "stream",
     "text": [
      "5\n",
      "6\n",
      "7\n",
      "8\n",
      "9\n",
      "10\n",
      "11\n",
      "12\n",
      "13\n",
      "14\n",
      "15\n",
      "16\n",
      "17\n",
      "18\n",
      "19\n",
      "20\n",
      "21\n",
      "22\n",
      "23\n",
      "24\n",
      "25\n",
      "26\n",
      "27\n",
      "28\n",
      "29\n",
      "30\n",
      "31\n",
      "32\n",
      "33\n",
      "34\n",
      "35\n",
      "36\n",
      "37\n",
      "38\n",
      "39\n",
      "40\n",
      "41\n",
      "42\n",
      "43\n",
      "44\n",
      "45\n",
      "46\n",
      "47\n",
      "48\n",
      "49\n"
     ]
    }
   ],
   "source": [
    "results = []\n",
    "N = 5\n",
    "M = 50\n",
    "for i, row in list(df.iterrows())[N:M]:\n",
    "    print(i)\n",
    "    q = row['question']\n",
    "    a = row['answer']\n",
    "    r = row['reasoning']\n",
    "    res = gsm_qa(q, question_language=language, examples=examples)\n",
    "    res['gt_answer'] = int(a)\n",
    "    res['gt_reasoning'] = r\n",
    "    res['correct'] = res['answer'] == int(a)\n",
    "    results.append(res)\n",
    "\n"
   ]
  },
  {
   "cell_type": "code",
   "execution_count": 9,
   "metadata": {},
   "outputs": [
    {
     "name": "stdout",
     "output_type": "stream",
     "text": [
      "0.5333333333333333\n"
     ]
    }
   ],
   "source": [
    "df = pd.DataFrame.from_records(results)\n",
    "pkl.dump(df, open(f'data/processed/gsm8k/{language}/results.pkl', 'wb'))\n",
    "print(df['correct'].mean())"
   ]
  },
  {
   "cell_type": "code",
   "execution_count": null,
   "metadata": {},
   "outputs": [],
   "source": []
  }
 ],
 "metadata": {
  "kernelspec": {
   "display_name": ".venv",
   "language": "python",
   "name": "python3"
  },
  "language_info": {
   "codemirror_mode": {
    "name": "ipython",
    "version": 3
   },
   "file_extension": ".py",
   "mimetype": "text/x-python",
   "name": "python",
   "nbconvert_exporter": "python",
   "pygments_lexer": "ipython3",
   "version": "3.12.9"
  }
 },
 "nbformat": 4,
 "nbformat_minor": 2
}
