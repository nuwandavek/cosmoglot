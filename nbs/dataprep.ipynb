{
 "cells": [
  {
   "cell_type": "code",
   "execution_count": 9,
   "metadata": {},
   "outputs": [],
   "source": [
    "from utils import translate, qa\n",
    "\n",
    "import pandas as pd\n",
    "import pickle as pkl\n",
    "import re\n"
   ]
  },
  {
   "cell_type": "code",
   "execution_count": 10,
   "metadata": {},
   "outputs": [
    {
     "data": {
      "text/plain": [
       "{'target_language': 'french',\n",
       " 'translation': 'Quoi de neuf ! Comment ça va ?',\n",
       " 'success': True}"
      ]
     },
     "execution_count": 10,
     "metadata": {},
     "output_type": "execute_result"
    }
   ],
   "source": [
    "# test\n",
    "translate(\"what's up! how's it g\", \"french\", \"g3\")"
   ]
  },
  {
   "cell_type": "code",
   "execution_count": 11,
   "metadata": {},
   "outputs": [],
   "source": [
    "\n",
    "# mmlu_splits = {'test': 'all/test-00000-of-00001.parquet', 'validation': 'all/validation-00000-of-00001.parquet', 'dev': 'all/dev-00000-of-00001.parquet', 'auxiliary_train': 'all/auxiliary_train-00000-of-00001.parquet'}\n",
    "# mmlu_base = \"hf://datasets/cais/mmlu/\"\n",
    "\n",
    "# gsm8k_splits = {'train': 'main/train-00000-of-00001.parquet', 'test': 'main/test-00000-of-00001.parquet'}\n",
    "# gsm8k_base = \"hf://datasets/openai/gsm8k/\"\n",
    "\n",
    "\n",
    "# for split in mmlu_splits:\n",
    "#     df = pd.read_parquet(mmlu_base + mmlu_splits[split])\n",
    "#     pkl.dump(df, open(f\"data/raw/mmlu/{split}.pkl\", \"wb\"))\n",
    "    \n",
    "\n",
    "\n",
    "# for split in gsm8k_splits:\n",
    "#     df = pd.read_parquet(gsm8k_base + gsm8k_splits[split])\n",
    "#     pkl.dump(df, open(f\"data/raw/gsm8k/{split}.pkl\", \"wb\"))\n"
   ]
  },
  {
   "cell_type": "code",
   "execution_count": 12,
   "metadata": {},
   "outputs": [],
   "source": [
    "# def split_reasoning_and_answer(text: str):\n",
    "#     # Split based on the pattern of #### followed by any numeric value (integer or decimal)\n",
    "#     match = re.search(r'####\\s*([\\d\\.]+)$', text.strip())\n",
    "    \n",
    "#     if match:\n",
    "#         reasoning = text[:match.start()].strip()\n",
    "#         answer = match.group(1).strip()\n",
    "#         return {\"reasoning\": reasoning, \"answer\": answer}\n",
    "#     else:\n",
    "#         return {\"reasoning\": text.strip(), \"answer\": None}  # If no answer pattern is found\n",
    "\n",
    "\n",
    "# for split in ['train', 'test']:\n",
    "#     gsm = pkl.load(open(f\"data/raw/gsm8k/{split}.pkl\", \"rb\"))\n",
    "#     temp = gsm['answer'].apply(split_reasoning_and_answer)\n",
    "#     temp_df = pd.DataFrame.from_records(temp)\n",
    "#     temp_df['question'] = gsm['question']\n",
    "#     temp_df = temp_df.dropna()\n",
    "#     pkl.dump(temp_df, open(f\"data/processed/gsm8k/{split}.pkl\", \"wb\"))\n",
    "\n",
    "# gsm = pkl.load(open(f\"data/processed/gsm8k/{split}.pkl\", \"rb\"))\n",
    "# gsm.head()"
   ]
  },
  {
   "cell_type": "code",
   "execution_count": 13,
   "metadata": {},
   "outputs": [],
   "source": [
    "gsm8k_train = pkl.load(open(\"data/processed/gsm8k/train.pkl\", \"rb\"))\n",
    "gsm8k_test = pkl.load(open(\"data/processed/gsm8k/test.pkl\", \"rb\"))\n"
   ]
  },
  {
   "cell_type": "code",
   "execution_count": null,
   "metadata": {},
   "outputs": [
    {
     "name": "stdout",
     "output_type": "stream",
     "text": [
      "0\n",
      "1\n",
      "2\n",
      "3\n",
      "4\n",
      "5\n",
      "6\n",
      "7\n",
      "8\n",
      "9\n",
      "10\n",
      "11\n",
      "12\n",
      "13\n",
      "14\n",
      "15\n",
      "16\n",
      "17\n",
      "18\n",
      "19\n",
      "20\n",
      "21\n",
      "22\n",
      "23\n",
      "24\n",
      "25\n",
      "26\n",
      "27\n",
      "28\n",
      "29\n",
      "30\n",
      "31\n",
      "32\n",
      "33\n",
      "34\n",
      "35\n",
      "36\n",
      "37\n",
      "38\n",
      "39\n",
      "40\n",
      "41\n",
      "42\n",
      "43\n",
      "44\n",
      "45\n",
      "46\n",
      "47\n",
      "48\n",
      "49\n",
      "50\n",
      "51\n",
      "52\n",
      "53\n",
      "54\n",
      "55\n",
      "56\n",
      "57\n",
      "58\n",
      "59\n",
      "60\n",
      "61\n",
      "62\n",
      "63\n",
      "64\n",
      "65\n",
      "66\n",
      "67\n",
      "68\n",
      "69\n",
      "70\n",
      "71\n",
      "72\n",
      "73\n",
      "74\n",
      "75\n",
      "76\n",
      "77\n",
      "78\n",
      "79\n",
      "80\n",
      "81\n",
      "82\n",
      "83\n",
      "84\n",
      "85\n",
      "86\n",
      "87\n",
      "88\n",
      "89\n",
      "90\n",
      "91\n",
      "92\n",
      "93\n",
      "94\n",
      "95\n",
      "96\n",
      "97\n",
      "98\n",
      "99\n"
     ]
    }
   ],
   "source": [
    "N = 100\n",
    "RETRY = 3\n",
    "language = 'french'\n",
    "model = 'g3'\n",
    "\n",
    "res = []\n",
    "\n",
    "for r, row in gsm8k_train.head(N).iterrows():\n",
    "    question = row['question']\n",
    "    reasoning = row['reasoning']\n",
    "    answer = row['answer']\n",
    "    \n",
    "    for _ in range(RETRY):\n",
    "        question_translated = translate(question, language, model)\n",
    "        if question_translated['success']:\n",
    "            break\n",
    "    for _ in range(RETRY):\n",
    "        reasoning_translated = translate(reasoning, language, model)\n",
    "        if reasoning_translated['success']:\n",
    "            break\n",
    "    if question_translated['success'] and reasoning_translated['success']:\n",
    "        res.append({\n",
    "            \"question\": question_translated['translation'],\n",
    "            \"reasoning\": reasoning_translated['translation'],\n",
    "            \"answer\": answer,\n",
    "            \"language\": language,\n",
    "            \"translator\": model\n",
    "        })\n",
    "    "
   ]
  },
  {
   "cell_type": "code",
   "execution_count": null,
   "metadata": {},
   "outputs": [],
   "source": [
    "df = pd.DataFrame.from_records(res)\n",
    "pkl.dump(df, open(f\"data/processed/gsm8k/{language}/test.pkl\", \"wb\"))"
   ]
  },
  {
   "cell_type": "code",
   "execution_count": null,
   "metadata": {},
   "outputs": [],
   "source": []
  }
 ],
 "metadata": {
  "kernelspec": {
   "display_name": ".venv",
   "language": "python",
   "name": "python3"
  },
  "language_info": {
   "codemirror_mode": {
    "name": "ipython",
    "version": 3
   },
   "file_extension": ".py",
   "mimetype": "text/x-python",
   "name": "python",
   "nbconvert_exporter": "python",
   "pygments_lexer": "ipython3",
   "version": "3.12.9"
  }
 },
 "nbformat": 4,
 "nbformat_minor": 2
}
