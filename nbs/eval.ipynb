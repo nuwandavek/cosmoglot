{
 "cells": [
  {
   "cell_type": "code",
   "execution_count": 1,
   "metadata": {},
   "outputs": [],
   "source": [
    "import pickle as pkl\n",
    "import pandas as pd\n"
   ]
  },
  {
   "cell_type": "code",
   "execution_count": 11,
   "metadata": {},
   "outputs": [],
   "source": [
    "english = pkl.load(open('data/processed/gsm8k/english/results.pkl', 'rb'))\n",
    "hindi = pkl.load(open('data/processed/gsm8k/hindi/results.pkl', 'rb'))\n",
    "french = pkl.load(open('data/processed/gsm8k/french/results.pkl', 'rb'))\n",
    "spanish = pkl.load(open('data/processed/gsm8k/spanish/results.pkl', 'rb'))\n",
    "kannada = pkl.load(open('data/processed/gsm8k/kannada/results.pkl', 'rb'))\n",
    "sanskrit = pkl.load(open('data/processed/gsm8k/sanskrit/results.pkl', 'rb'))\n",
    "\n",
    "english_test = pkl.load(open('data/processed/gsm8k/english/test.pkl', 'rb'))\n",
    "hindi_test = pkl.load(open('data/processed/gsm8k/hindi/test.pkl', 'rb'))\n",
    "french_test = pkl.load(open('data/processed/gsm8k/french/test.pkl', 'rb'))\n",
    "spanish_test = pkl.load(open('data/processed/gsm8k/spanish/test.pkl', 'rb'))\n",
    "kannada_test = pkl.load(open('data/processed/gsm8k/kannada/test.pkl', 'rb'))\n",
    "sanskrit_test = pkl.load(open('data/processed/gsm8k/sanskrit/test.pkl', 'rb'))\n",
    "\n"
   ]
  },
  {
   "cell_type": "code",
   "execution_count": 12,
   "metadata": {},
   "outputs": [],
   "source": [
    "df = pd.concat([english, hindi, french, spanish, kannada, sanskrit], axis=0)\n",
    "df_test = pd.concat([english_test, hindi_test, french_test, spanish_test, kannada_test, sanskrit_test], axis=0)\n",
    "df = df.reset_index(drop=True)\n",
    "df_test = df_test.reset_index(drop=True)"
   ]
  },
  {
   "cell_type": "code",
   "execution_count": 16,
   "metadata": {},
   "outputs": [],
   "source": [
    "big_df = pd.merge(df, df_test[['language', 'question', 'reasoning']], left_on=['question_language', 'gt_reasoning'], right_on=['language', 'reasoning'], how='inner')"
   ]
  },
  {
   "cell_type": "code",
   "execution_count": 17,
   "metadata": {},
   "outputs": [
    {
     "name": "stdout",
     "output_type": "stream",
     "text": [
      "| question_language   |   correct |\n",
      "|:--------------------|----------:|\n",
      "| english             |      0.98 |\n",
      "| french              |      0.93 |\n",
      "| spanish             |      0.91 |\n",
      "| hindi               |      0.91 |\n",
      "| sanskrit            |      0.53 |\n",
      "| kannada             |      0.51 |\n"
     ]
    }
   ],
   "source": [
    "print(big_df.groupby('question_language').agg({'correct': 'mean'}).sort_values('correct', ascending=False).round(2).to_markdown())"
   ]
  },
  {
   "cell_type": "code",
   "execution_count": 26,
   "metadata": {},
   "outputs": [
    {
     "data": {
      "text/plain": [
       "{'question_language': 'kannada',\n",
       " 'explanation': 'ಮೊದಲಿಗೆ, ಒಂದು ಡಿವಿಡಿಯ ಮಾರಾಟದಿಂದ ಜೇಮ್ಸ್ ಗಳಿಸುವ ಮೊತ್ತ 6 * 2.5 = $15. ಅವನು ದಿನಕ್ಕೆ 500 ಡಿವಿಡಿ ಮಾರಾಟ ಮಾಡುತ್ತಾನೆ, ಆದ್ದರಿಂದ ಅವನ ದಿನದ ಆದಾಯ 500 * 15 = $7500. ಅವನು ವಾರದಲ್ಲಿ 5 ದಿನ ಕೆಲಸ ಮಾಡುತ್ತಾನೆ, ಆದ್ದರಿಂದ ಅವನ ವಾರದ ಆದಾಯ 7500 * 5 = $37500. 20 ವಾರಗಳಲ್ಲಿ ಅವನ ಆದಾಯ 37500 * 20 = $750000. ಅವನ ಉತ್ಪಾದನಾ ವೆಚ್ಚ 2000 ಡಾಲರ್. ಆದ್ದರಿಂದ ಅವನ ಲಾಭ 750000 - 2000 = $748000.',\n",
       " 'answer': 748000,\n",
       " 'success': True,\n",
       " 'gt_answer': 448000,\n",
       " 'gt_reasoning': 'ಅವನು ಪ್ರತಿ ಡಿವಿಡಿಯನ್ನು 6*2.5=15ಕ್ಕೆ ಮಾರಾಟ ಮಾಡಿದನು. ಆದ್ದರಿಂದ ಅವನಿಗೆ 15-6=9 ಲಾಭವಾಗುತ್ತದೆ. ಹಾಗಾಗಿ ಪ್ರತಿದಿನ ಅವನಿಗೆ 9*500=4500 ಲಾಭವಾಗುತ್ತದೆ. ಆದ್ದರಿಂದ ಅವನು 4500*5=22,500 ಗಳಿಸುತ್ತಾನೆ. ಅವನು 22,500*20=450,000 ಗಳಿಸುತ್ತಾನೆ. ಚಲನಚಿತ್ರವನ್ನು ನಿರ್ಮಿಸುವ ವೆಚ್ಚದ ನಂತರ ಅವನಿಗೆ 450,000-2000=448,000 ಲಾಭವಾಗುತ್ತದೆ.',\n",
       " 'correct': False,\n",
       " 'language': 'kannada',\n",
       " 'question': 'ಜೇಮ್ಸ್ ಮಾಧ್ಯಮ ಸಾಮ್ರಾಜ್ಯವನ್ನು ಸೃಷ್ಟಿಸುತ್ತಾನೆ. ಅವನು 2000 ಡಾಲರ್\\u200cಗಳಿಗೆ ಸಿನಿಮಾ ಮಾಡುತ್ತಾನೆ. ಪ್ರತಿ ಡಿವಿಡಿ ತಯಾರಿಸಲು 6 ಡಾಲರ್\\u200cಗಳ ವೆಚ್ಚವಾಗುತ್ತದೆ. ಅವನು ಅದನ್ನು ಅದರ 2.5 ಪಟ್ಟು ಹೆಚ್ಚಿನ ಬೆಲೆಗೆ ಮಾರುತ್ತಾನೆ. ಅವನು ದಿನಕ್ಕೆ 500 ಸಿನಿಮಾಗಳು ಮಾರುತ್ತಾನೆ, ವಾರದಲ್ಲಿ 5 ದಿನಗಳು. 20 ವಾರಗಳಲ್ಲಿ ಅವನು ಎಷ್ಟು ಲಾಭ ಗಳಿಸುತ್ತಾನೆ?',\n",
       " 'reasoning': 'ಅವನು ಪ್ರತಿ ಡಿವಿಡಿಯನ್ನು 6*2.5=15ಕ್ಕೆ ಮಾರಾಟ ಮಾಡಿದನು. ಆದ್ದರಿಂದ ಅವನಿಗೆ 15-6=9 ಲಾಭವಾಗುತ್ತದೆ. ಹಾಗಾಗಿ ಪ್ರತಿದಿನ ಅವನಿಗೆ 9*500=4500 ಲಾಭವಾಗುತ್ತದೆ. ಆದ್ದರಿಂದ ಅವನು 4500*5=22,500 ಗಳಿಸುತ್ತಾನೆ. ಅವನು 22,500*20=450,000 ಗಳಿಸುತ್ತಾನೆ. ಚಲನಚಿತ್ರವನ್ನು ನಿರ್ಮಿಸುವ ವೆಚ್ಚದ ನಂತರ ಅವನಿಗೆ 450,000-2000=448,000 ಲಾಭವಾಗುತ್ತದೆ.'}"
      ]
     },
     "execution_count": 26,
     "metadata": {},
     "output_type": "execute_result"
    }
   ],
   "source": [
    "big_df[(big_df['question_language'] == 'kannada') & (big_df['correct'] == False)].iloc[0].to_dict()"
   ]
  },
  {
   "cell_type": "code",
   "execution_count": null,
   "metadata": {},
   "outputs": [],
   "source": []
  }
 ],
 "metadata": {
  "kernelspec": {
   "display_name": ".venv",
   "language": "python",
   "name": "python3"
  },
  "language_info": {
   "codemirror_mode": {
    "name": "ipython",
    "version": 3
   },
   "file_extension": ".py",
   "mimetype": "text/x-python",
   "name": "python",
   "nbconvert_exporter": "python",
   "pygments_lexer": "ipython3",
   "version": "3.12.9"
  }
 },
 "nbformat": 4,
 "nbformat_minor": 2
}
